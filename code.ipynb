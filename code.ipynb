{
 "metadata": {
  "language_info": {
   "codemirror_mode": {
    "name": "ipython",
    "version": 3
   },
   "file_extension": ".py",
   "mimetype": "text/x-python",
   "name": "python",
   "nbconvert_exporter": "python",
   "pygments_lexer": "ipython3",
   "version": "3.6.9"
  },
  "orig_nbformat": 2,
  "kernelspec": {
   "name": "python369jvsc74a57bd031f2aee4e71d21fbe5cf8b01ff0e069b9275f58929596ceb00d14d90e3e16cd6",
   "display_name": "Python 3.6.9 64-bit"
  },
  "metadata": {
   "interpreter": {
    "hash": "31f2aee4e71d21fbe5cf8b01ff0e069b9275f58929596ceb00d14d90e3e16cd6"
   }
  }
 },
 "nbformat": 4,
 "nbformat_minor": 2,
 "cells": [
  {
   "cell_type": "code",
   "execution_count": 5,
   "metadata": {},
   "outputs": [
    {
     "output_type": "stream",
     "name": "stdout",
     "text": [
      "rank: 0\nsending to rank 4\nrank: 1\nsending to rank 5\nrank: 2\nsending to rank 6\nrank: 3\nsending to rank 7\nrank: 4\nmenghantar ke rank 0\nrank: 5\nmenghantar ke rank 1\nrank: 6\nmenghantar ke rank 2\nrank: 7\nmenghantar ke rank 3\n"
     ]
    }
   ],
   "source": [
    "numtask = 8\n",
    "bahagi = int(numtask / 2)\n",
    "\n",
    "for rank in range(numtask): \n",
    "    print(f'rank: {rank}')\n",
    "\n",
    "    if rank < bahagi:\n",
    "        print(f'sending to rank {rank + bahagi}')\n",
    "    else:\n",
    "        print(f'menghantar ke rank {rank - bahagi}')"
   ]
  },
  {
   "cell_type": "code",
   "execution_count": null,
   "metadata": {},
   "outputs": [],
   "source": [
    "numtask = 4\n",
    "rank = 3\n",
    "for rank in range(numtask):     \n",
    "    print(f'rank: {rank}')\n",
    "    if rank % 2 == 0:\n",
    "        destinasi = rank +1\n",
    "        sumber = rank + 1\n",
    "        print(f'desinasi: {destinasi}\\nsumber: {sumber}\\n\\n')\n",
    "    else:\n",
    "        destinasi = rank -1\n",
    "        sumber = rank -1\n",
    "        print(f'desinasi: {destinasi}\\nsumber: {sumber}\\n\\n')"
   ]
  },
  {
   "cell_type": "code",
   "execution_count": null,
   "metadata": {},
   "outputs": [],
   "source": []
  }
 ]
}